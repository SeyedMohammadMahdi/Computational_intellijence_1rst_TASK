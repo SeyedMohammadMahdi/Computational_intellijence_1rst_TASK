{
 "cells": [
  {
   "cell_type": "code",
   "execution_count": 1,
   "id": "6885b943",
   "metadata": {},
   "outputs": [],
   "source": [
    "from sklearn.datasets import load_iris\n",
    "from sklearn.metrics import adjusted_rand_score\n",
    "from sklearn.model_selection import train_test_split\n",
    "from sklearn.cluster import KMeans\n",
    "import pandas as pd\n",
    "from warnings import filterwarnings\n",
    "filterwarnings('ignore')"
   ]
  },
  {
   "cell_type": "code",
   "execution_count": 2,
   "id": "d8ab7694",
   "metadata": {},
   "outputs": [],
   "source": [
    "# loading raw data\n",
    "raw_data = load_iris()\n",
    "\n",
    "# separating data and tareget\n",
    "data = raw_data.data\n",
    "target = raw_data.target"
   ]
  },
  {
   "cell_type": "code",
   "execution_count": 3,
   "id": "8161058e",
   "metadata": {},
   "outputs": [],
   "source": [
    "# separating train and test datas\n",
    "trainData, testData, trainTarget, testTarget = train_test_split(data, target, test_size=.2, random_state=42)"
   ]
  },
  {
   "cell_type": "code",
   "execution_count": 4,
   "id": "e27a5b69",
   "metadata": {},
   "outputs": [],
   "source": [
    "# define different k for KMeans\n",
    "# the member 120 is added to the list to show the effect \n",
    "# of different verification methods.\n",
    "K = [2, 3, 4, 5, 6, 7, 8, 120]"
   ]
  },
  {
   "cell_type": "code",
   "execution_count": 5,
   "id": "94ca11a3",
   "metadata": {},
   "outputs": [],
   "source": [
    "# creating a pandas DF from train data to use pandas features\n",
    "trainDF = pd.DataFrame(trainData)\n",
    "trainDF['target'] = trainTarget\n",
    "# creating a pandas DF from train data to use pandas features\n",
    "testDF = pd.DataFrame(testData)\n",
    "testDF['target'] = testTarget\n",
    "\n",
    "# NOTE: to see the structure of the DF uncomment the following line\n",
    "# print(trainDF)"
   ]
  },
  {
   "cell_type": "markdown",
   "id": "3019052a",
   "metadata": {},
   "source": [
    "## what we are going to do\n",
    "\n",
    "here we are gonna fit the train data with kmeans and after that find the most label in each cluster and update the label that kmeans has assign to that cluster, after that testing the accuracy rate using the test data(20% of the raw data).\n",
    "\n",
    "what we expect is to see that the rate that we calculate is not a good measure for finding K."
   ]
  },
  {
   "cell_type": "code",
   "execution_count": 10,
   "id": "4334e086",
   "metadata": {},
   "outputs": [
    {
     "name": "stdout",
     "output_type": "stream",
     "text": [
      "k= 2, rate= 0.7\n",
      "k= 3, rate= 0.9666666666666667\n",
      "k= 4, rate= 0.8333333333333334\n",
      "k= 5, rate= 0.9666666666666667\n",
      "k= 6, rate= 0.9666666666666667\n",
      "k= 7, rate= 0.9666666666666667\n",
      "k= 8, rate= 0.9666666666666667\n",
      "k= 120, rate= 0.9666666666666667\n"
     ]
    }
   ],
   "source": [
    "# fitting train data with different k\n",
    "# and testing on test datas\n",
    "for k in K:\n",
    "#     creating an object from Kmeans and passing k\n",
    "    kmeans = KMeans(n_clusters=k)\n",
    "#     fitting\n",
    "    kmeans.fit(trainData)\n",
    "#     creating a temp DF for train data and adding labels to it\n",
    "    tempDF = trainDF.loc[:,:]\n",
    "    tempDF['trained'] = kmeans.labels_\n",
    "    \n",
    "#     finding different uniqe labels added to datas by kmeans\n",
    "    trainedLbl = tempDF['trained'].unique()\n",
    "    \n",
    "#     creating a temp DF for test datas and adding predicted labels to it\n",
    "    temp = testDF.loc[:,:]\n",
    "    temp['predicted'] = kmeans.predict(testData)\n",
    "    \n",
    "#     the following counter is used to count the number of test datas\n",
    "#     that are labeled correctly\n",
    "    count = 0\n",
    "    for lbl in trainedLbl:\n",
    "#         getting the most label in each cluster and change the label added by kmeans\n",
    "#         to this value(the most label is real label of cluster)\n",
    "        realLbl = int(tempDF[tempDF['trained'] == lbl]['target'].mode()[0])\n",
    "        t1 = temp[temp['predicted'] == lbl]\n",
    "        \n",
    "        t1['predicted'] = realLbl\n",
    "    \n",
    "#         we count the number of datas that their target label is equal to predicted label\n",
    "        count += t1[t1['target'] == t1['predicted']].shape[0]\n",
    "\n",
    "#     calculating the rate of prediction for each k\n",
    "    print(f'k= {k}, rate= {count / temp.shape[0]}')\n",
    "        "
   ]
  },
  {
   "cell_type": "markdown",
   "id": "4a48b0ee",
   "metadata": {},
   "source": [
    "## explain result\n",
    "\n",
    "as it is clear from the output of previous cell, the rate for several values of K is equal, so we can't say which one is the best K for this data set. that's because the method we used does not consider the number of clusters\n",
    "jsut considers the datas that have been clustered correctly in one cluster."
   ]
  },
  {
   "cell_type": "markdown",
   "id": "c9c6d8b8",
   "metadata": {},
   "source": [
    "# سوال دوم تمرین (بررسی بهینه بودن بدون داشتن داده تست)"
   ]
  },
  {
   "cell_type": "markdown",
   "id": "e9c75d51",
   "metadata": {},
   "source": [
    "for this task we can use RAND INDEX method.\n",
    "this method works fine with kmeans and also can be used to find the best k."
   ]
  },
  {
   "cell_type": "markdown",
   "id": "900a4941",
   "metadata": {},
   "source": [
    "#    Rand Index"
   ]
  },
  {
   "cell_type": "code",
   "execution_count": 7,
   "id": "5aea8b73",
   "metadata": {},
   "outputs": [
    {
     "name": "stdout",
     "output_type": "stream",
     "text": [
      "k= 2, rate= 0.5310402626123087\n",
      "k= 3, rate= 0.6788174668657071\n",
      "k= 4, rate= 0.6015631698168469\n",
      "k= 5, rate= 0.6004933898120142\n",
      "k= 6, rate= 0.42428681033682414\n",
      "k= 7, rate= 0.4706851679001883\n",
      "k= 8, rate= 0.42723794077718685\n",
      "k= 120, rate= 0.0005741392786039861\n"
     ]
    }
   ],
   "source": [
    "for k in K:\n",
    "#     creating an object from Kmeans and passing k\n",
    "    kmeans = KMeans(n_clusters=k)\n",
    "#     fitting\n",
    "    kmeans.fit(trainData)\n",
    "#     creating a temp DF for train data and adding labels to it\n",
    "    tempDF = trainDF.loc[:,:]\n",
    "    tempDF['trained'] = kmeans.labels_\n",
    "#     printig rand index rate for each k\n",
    "    print(f\"k= {k}, rate= {adjusted_rand_score(tempDF['target'], tempDF['trained'])}\")\n",
    "    "
   ]
  },
  {
   "cell_type": "markdown",
   "id": "e6f66b7f",
   "metadata": {},
   "source": [
    "## compair two methods that are used\n",
    "\n",
    "but rand index considers the number of clusters indirectly, because it counts the number of pairs that are clustered correctly. the pairs with the same label should be in the same cluster to be enumerated, also\n",
    "the pairs that have different labels should be in different clusters to be enumerated so, in this method with consider the number of cluster"
   ]
  }
 ],
 "metadata": {
  "kernelspec": {
   "display_name": "Python 3 (ipykernel)",
   "language": "python",
   "name": "python3"
  },
  "language_info": {
   "codemirror_mode": {
    "name": "ipython",
    "version": 3
   },
   "file_extension": ".py",
   "mimetype": "text/x-python",
   "name": "python",
   "nbconvert_exporter": "python",
   "pygments_lexer": "ipython3",
   "version": "3.10.6"
  }
 },
 "nbformat": 4,
 "nbformat_minor": 5
}

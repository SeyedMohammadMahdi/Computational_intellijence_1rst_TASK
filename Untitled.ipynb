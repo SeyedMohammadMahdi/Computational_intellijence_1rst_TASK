{
 "cells": [
  {
   "cell_type": "code",
   "execution_count": 1,
   "id": "ad80a07a",
   "metadata": {},
   "outputs": [],
   "source": [
    "from sklearn.datasets import load_iris\n",
    "from sklearn.metrics import adjusted_rand_score\n",
    "from sklearn.model_selection import train_test_split\n",
    "from sklearn.cluster import KMeans\n",
    "import pandas as pd\n",
    "from warnings import filterwarnings\n",
    "filterwarnings('ignore')"
   ]
  },
  {
   "cell_type": "code",
   "execution_count": 2,
   "id": "a096baf0",
   "metadata": {},
   "outputs": [],
   "source": [
    "# loading raw data\n",
    "raw_data = load_iris()\n",
    "\n",
    "# separating data and tareget\n",
    "data = raw_data.data\n",
    "target = raw_data.target"
   ]
  },
  {
   "cell_type": "code",
   "execution_count": 3,
   "id": "b54a8f5f",
   "metadata": {},
   "outputs": [],
   "source": [
    "# separating train and test datas\n",
    "trainData, testData, trainTarget, testTarget = train_test_split(data, target, test_size=.2, random_state=42)"
   ]
  },
  {
   "cell_type": "code",
   "execution_count": 39,
   "id": "c3227178",
   "metadata": {},
   "outputs": [],
   "source": [
    "# define different k for KMeans\n",
    "# the member 120 is added to the list to show the effect \n",
    "# of different verification methods.\n",
    "K = [2, 3, 4, 5, 6, 7, 8, 120]"
   ]
  },
  {
   "cell_type": "code",
   "execution_count": 43,
   "id": "f676a389",
   "metadata": {},
   "outputs": [],
   "source": [
    "# creating a pandas DF from train data to use pandas features\n",
    "trainDF = pd.DataFrame(trainData)\n",
    "trainDF['target'] = trainTarget\n",
    "# creating a pandas DF from train data to use pandas features\n",
    "testDF = pd.DataFrame(testData)\n",
    "testDF['target'] = testTarget\n",
    "\n",
    "# NOTE: to see the structure of the DF uncomment the following line\n",
    "# print(trainDF)"
   ]
  },
  {
   "cell_type": "code",
   "execution_count": 49,
   "id": "37678796",
   "metadata": {},
   "outputs": [
    {
     "name": "stdout",
     "output_type": "stream",
     "text": [
      "k= 2, rate= 0.7\n",
      "k= 3, rate= 0.9666666666666667\n",
      "k= 4, rate= 0.7\n",
      "k= 5, rate= 0.6666666666666666\n",
      "k= 6, rate= 0.4666666666666667\n",
      "k= 7, rate= 0.5666666666666667\n",
      "k= 8, rate= 0.4666666666666667\n",
      "k= 120, rate= 0.0\n"
     ]
    }
   ],
   "source": [
    "# fitting train data with different k\n",
    "# and testing on test datas\n",
    "for k in K:\n",
    "#     creating an object from Kmeans and passing k\n",
    "    kmeans = KMeans(n_clusters=k)\n",
    "#     fitting\n",
    "    kmeans.fit(trainData)\n",
    "#     creating a temp DF for train data and adding labels to it\n",
    "    tempDF = trainDF.loc[:,:]\n",
    "    tempDF['trained'] = kmeans.labels_\n",
    "    \n",
    "#     finding different uniqe labels added to datas by kmeans\n",
    "    trainedLbl = tempDF['trained'].unique()\n",
    "    \n",
    "#     creating a temp DF for test datas and adding predicted labels to it\n",
    "    temp = testDF.loc[:,:]\n",
    "    temp['predicted'] = kmeans.predict(testData)\n",
    "    \n",
    "#     the following counter is used to count the number of test datas\n",
    "#     that are labeled correctly\n",
    "    count = 0\n",
    "    for lbl in trainedLbl:\n",
    "#         getting the most label in each cluster and change the label added by kmeans\n",
    "#         to this value(the most label is real label of cluster)\n",
    "        realLbl = int(tempDF[tempDF['trained'] == lbl]['target'].mode()[0])\n",
    "        t1 = temp[temp['predicted'] == lbl]\n",
    "        \n",
    "#         if the label added by kmeans is among the real labels(here we have 3 label because we are using iris datasey)\n",
    "#         then we will chage the label to real one\n",
    "#         this is the first method if you want to test second method just \n",
    "#         comment the following if and delete indentation for the line afte that\n",
    "\n",
    "        if lbl in trainDF['target'].unique():\n",
    "        \n",
    "#           delete indentation for following line to test second method\n",
    "            t1['predicted'] = realLbl\n",
    "    \n",
    "#         we count the number of datas that their target label is equal to predicted label\n",
    "        count += t1[t1['target'] == t1['predicted']].shape[0]\n",
    "\n",
    "#     calculating the rate of prediction for each k\n",
    "    print(f'k= {k}, rate= {count / temp.shape[0]}')\n",
    "        "
   ]
  },
  {
   "cell_type": "markdown",
   "id": "be12c315",
   "metadata": {},
   "source": [
    "# سوال دوم تمرین (بررسی بهینه بودن بدون داشتن داده تست)"
   ]
  },
  {
   "cell_type": "markdown",
   "id": "6e11304a",
   "metadata": {},
   "source": [
    "برای این کار می توانیم از روش\n",
    "rand index\n",
    "استفاده کنیم در روش قبل اگر شرط را کامنت کنیم چون تعداد کلاستر ها در نظر گرفته نمی شود تقریبا برای همه مقادیر \n",
    "K\n",
    "تعداد پیشبینی های درست یکسان بود بنابر این، روش استفاده شده برای تعیین مقدار مناسب \n",
    "K \n",
    "روش خوبی نیست، هر چند که اگر شرط را کامنت نکنیم مقیاس خوبی خواهد بود،"
   ]
  },
  {
   "cell_type": "markdown",
   "id": "20376f39",
   "metadata": {},
   "source": [
    "#    Rand Index"
   ]
  },
  {
   "cell_type": "code",
   "execution_count": null,
   "id": "9f040dd0",
   "metadata": {},
   "outputs": [],
   "source": [
    "for k in K:\n",
    "#     creating an object from Kmeans and passing k\n",
    "    kmeans = KMeans(n_clusters=k)\n",
    "#     fitting\n",
    "    kmeans.fit(trainData)\n",
    "#     creating a temp DF for train data and adding labels to it\n",
    "    tempDF = trainDF.loc[:,:]\n",
    "    tempDF['trained'] = kmeans.labels_\n",
    "    \n",
    "#     finding different uniqe labels added to datas by kmeans\n",
    "    trainedLbl = tempDF['trained'].unique()\n",
    "    "
   ]
  }
 ],
 "metadata": {
  "kernelspec": {
   "display_name": "Python 3 (ipykernel)",
   "language": "python",
   "name": "python3"
  },
  "language_info": {
   "codemirror_mode": {
    "name": "ipython",
    "version": 3
   },
   "file_extension": ".py",
   "mimetype": "text/x-python",
   "name": "python",
   "nbconvert_exporter": "python",
   "pygments_lexer": "ipython3",
   "version": "3.10.6"
  }
 },
 "nbformat": 4,
 "nbformat_minor": 5
}

{
 "cells": [
  {
   "cell_type": "code",
   "execution_count": 1,
   "id": "8b74f8f2",
   "metadata": {},
   "outputs": [],
   "source": [
    "from sklearn.datasets import load_iris\n",
    "from sklearn.metrics import adjusted_rand_score\n",
    "from sklearn.model_selection import train_test_split\n",
    "from sklearn.cluster import KMeans\n",
    "import pandas as pd\n",
    "from warnings import filterwarnings\n",
    "filterwarnings('ignore')"
   ]
  },
  {
   "cell_type": "code",
   "execution_count": 2,
   "id": "95886c3b",
   "metadata": {},
   "outputs": [],
   "source": [
    "# loading raw data\n",
    "raw_data = load_iris()\n",
    "\n",
    "# separating data and tareget\n",
    "data = raw_data.data\n",
    "target = raw_data.target"
   ]
  },
  {
   "cell_type": "code",
   "execution_count": 3,
   "id": "29f373fb",
   "metadata": {},
   "outputs": [],
   "source": [
    "# separating train and test datas\n",
    "trainData, testData, trainTarget, testTarget = train_test_split(data, target, test_size=.2, random_state=42)"
   ]
  },
  {
   "cell_type": "code",
   "execution_count": 39,
   "id": "a26f9c36",
   "metadata": {},
   "outputs": [],
   "source": [
    "# define different k for KMeans\n",
    "# the member 120 is added to the list to show the effect \n",
    "# of different verification methods.\n",
    "K = [2, 3, 4, 5, 6, 7, 8, 120]"
   ]
  },
  {
   "cell_type": "code",
   "execution_count": 6,
   "id": "a8d6b244",
   "metadata": {},
   "outputs": [],
   "source": [
    "trainDF = pd.DataFrame(trainData)\n",
    "trainDF['target'] = trainTarget\n",
    "\n",
    "testDF = pd.DataFrame(testData)\n",
    "testDF['target'] = testTarget"
   ]
  },
  {
   "cell_type": "code",
   "execution_count": 40,
   "id": "9d12bb95",
   "metadata": {},
   "outputs": [
    {
     "name": "stdout",
     "output_type": "stream",
     "text": [
      "21\n",
      "29\n",
      "21\n",
      "24\n",
      "17\n",
      "18\n",
      "10\n",
      "0\n"
     ]
    }
   ],
   "source": [
    "# fitting train data with different k\n",
    "# and testing on test datas\n",
    "for k in K:\n",
    "    kmeans = KMeans(n_clusters=k)\n",
    "#     fitting\n",
    "    kmeans.fit(trainData)\n",
    "#     adding labels to DF\n",
    "    tempDF = trainDF.loc[:,:]\n",
    "    tempDF['trained'] = kmeans.labels_\n",
    "    trainedLbl = tempDF['trained'].unique()\n",
    "    temp = testDF.loc[:,:]\n",
    "    temp['predicted'] = kmeans.predict(testData)\n",
    "    count = 0\n",
    "    for lbl in trainedLbl:\n",
    "        realLbl = int(tempDF[tempDF['trained'] == lbl]['target'].mode()[0])\n",
    "        t1 = temp[temp['predicted'] == lbl]\n",
    "        if lbl in [0, 1, 2]:\n",
    "            t1['predicted'] = realLbl\n",
    "#         print(realLbtrainedLbl)\n",
    "        count += t1[t1['target'] == t1['predicted']].shape[0]\n",
    "#         print(t1[t1['target'] == t1['predicted']].shape)\n",
    "\n",
    "    print(count)\n",
    "        "
   ]
  }
 ],
 "metadata": {
  "kernelspec": {
   "display_name": "Python 3 (ipykernel)",
   "language": "python",
   "name": "python3"
  },
  "language_info": {
   "codemirror_mode": {
    "name": "ipython",
    "version": 3
   },
   "file_extension": ".py",
   "mimetype": "text/x-python",
   "name": "python",
   "nbconvert_exporter": "python",
   "pygments_lexer": "ipython3",
   "version": "3.10.6"
  }
 },
 "nbformat": 4,
 "nbformat_minor": 5
}
